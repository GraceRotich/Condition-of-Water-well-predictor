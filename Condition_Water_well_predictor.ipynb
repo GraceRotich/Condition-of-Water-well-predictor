{
 "cells": [
  {
   "cell_type": "markdown",
   "metadata": {},
   "source": [
    "# <span style=\"color:orange\"> **PREDICTING OPERATING CONDITION OF WATER WELLS IN TANZANIA**</span>\n",
    "\n",
    " By: *Grace Rotich*\n",
    "\n",
    "This is a machine learning project with models that predict the condition of water wells in Tanzania.\n",
    "\n",
    "![introduction well](imageWell)\n",
    "\n"
   ]
  },
  {
   "cell_type": "markdown",
   "metadata": {},
   "source": [
    "## BUSINESS UNDERSTANDING\n",
    "According to Water.org(2024), Tanzania faces a significant water and sanitation crisis, out of its population of 65 million people, 58 million people (88% of the population) lack access to safe water. People living under these circumstances, particularly women and girls, spend a significant amount of time traveling long distances to collect water. And other challenges like underfunding of planned government projects, population growth, and extreme weather events due to climate change create challenges for those living in poverty. Now more than ever access to safe water at home is critical to families in Tanzania\n",
    "\n",
    "The project's main goal is to create a model for forecasting operational conditions of water points in Tanzania. With accurate predictions showing whether a water point will be working, broken, or under repair, the Tanzanian government will improve maintenance decision-making procedures, thereby making sure that communities have sustainable access to drinking water.\n",
    "\n",
    "These are what the government of Tanzania can achieve from this;\n",
    "\n",
    "* It will be able to improve the lifespan of water wells operationally.\n",
    "* It can ensure more communities have a dependable source of clean drinking water.\n",
    "* It can be sure that public funds and resources work best by identifying which boreholes should be given the  first priority during maintenance based on their neediness levels.\n",
    "\n",
    "### Problem Statement:\n",
    "\n",
    "![child problem water](Problem.jpg)\n",
    "\n",
    "In Tanzania, many water wells fall into disrepair due to inadequate maintenance and the lack of timely repairs. This project aims to build a data-driven model to predict the condition of water wells, thus enabling the government to prioritize and address maintenance needs efficiently.\n"
   ]
  },
  {
   "cell_type": "markdown",
   "metadata": {},
   "source": [
    "### Objectives\n",
    "The main goals of this project are:\n",
    "\n",
    "1. To understand the data and the varus factors that affect the condition of water wlls in Tanzania.\n",
    "2. To create a machine learning model that can reliably forecast the operational state of water wells Using past data.\n",
    "3. To give advice on how to allocate funds and resources more effectively for water wells maintainance and repair."
   ]
  },
  {
   "cell_type": "markdown",
   "metadata": {},
   "source": [
    "### Metrices for success\n",
    "Model Performance will be evaluated on the accuracy, precision and ROC and AUC of the predictive model."
   ]
  },
  {
   "cell_type": "markdown",
   "metadata": {},
   "source": [
    "## DATA UNDERSTANDING\n",
    "Importing Libraries and data"
   ]
  },
  {
   "cell_type": "code",
   "execution_count": 1,
   "metadata": {},
   "outputs": [],
   "source": [
    "# Import libraries\n",
    "import pandas as pd\n",
    "import numpy as np\n",
    "import matplotlib.pyplot as plt\n",
    "import seaborn as sns\n",
    "\n",
    "from sklearn.preprocessing import LabelEncoder, OneHotEncoder\n",
    "from sklearn.model_selection import train_test_split, cross_val_score, RepeatedStratifiedKFold, GridSearchCV, RandomizedSearchCV\n",
    "from sklearn.preprocessing import StandardScaler\n",
    "from sklearn.linear_model import LogisticRegression\n",
    "from sklearn.tree import DecisionTreeClassifier\n",
    "from sklearn.neighbors import KNeighborsClassifier\n",
    "from sklearn.ensemble import RandomForestClassifier\n",
    "from sklearn.metrics import classification_report\n",
    "import warnings\n",
    "warnings.filterwarnings('ignore')"
   ]
  },
  {
   "cell_type": "code",
   "execution_count": null,
   "metadata": {},
   "outputs": [],
   "source": []
  }
 ],
 "metadata": {
  "kernelspec": {
   "display_name": "learn-env",
   "language": "python",
   "name": "python3"
  },
  "language_info": {
   "codemirror_mode": {
    "name": "ipython",
    "version": 3
   },
   "file_extension": ".py",
   "mimetype": "text/x-python",
   "name": "python",
   "nbconvert_exporter": "python",
   "pygments_lexer": "ipython3",
   "version": "3.8.5"
  }
 },
 "nbformat": 4,
 "nbformat_minor": 2
}
